{
 "cells": [
  {
   "cell_type": "markdown",
   "metadata": {},
   "source": [
    " # Data Challenge Project 2019\n",
    "\n",
    "                                                                                                                                    Γιώργος Λεβέντης(3130114)"
   ]
  },
  {
   "cell_type": "markdown",
   "metadata": {},
   "source": [
    "## Επεξεργασία dataset"
   ]
  },
  {
   "cell_type": "markdown",
   "metadata": {},
   "source": [
    "Αρχικά,ξεκινάμε κάνοντας import τα κατάλληλα πακέτα για την εισαγωγή και επεξεργασία των δοσμένων αρχείων train.csv και test.csv και τα φορτώνουμε σε Data Frames"
   ]
  },
  {
   "cell_type": "code",
   "execution_count": 1,
   "metadata": {},
   "outputs": [
    {
     "data": {
      "text/html": [
       "<div>\n",
       "<style scoped>\n",
       "    .dataframe tbody tr th:only-of-type {\n",
       "        vertical-align: middle;\n",
       "    }\n",
       "\n",
       "    .dataframe tbody tr th {\n",
       "        vertical-align: top;\n",
       "    }\n",
       "\n",
       "    .dataframe thead th {\n",
       "        text-align: right;\n",
       "    }\n",
       "</style>\n",
       "<table border=\"1\" class=\"dataframe\">\n",
       "  <thead>\n",
       "    <tr style=\"text-align: right;\">\n",
       "      <th></th>\n",
       "      <th>DateOfDeparture</th>\n",
       "      <th>Departure</th>\n",
       "      <th>CityDeparture</th>\n",
       "      <th>LongitudeDeparture</th>\n",
       "      <th>LatitudeDeparture</th>\n",
       "      <th>Arrival</th>\n",
       "      <th>CityArrival</th>\n",
       "      <th>LongitudeArrival</th>\n",
       "      <th>LatitudeArrival</th>\n",
       "      <th>WeeksToDeparture</th>\n",
       "      <th>std_wtd</th>\n",
       "      <th>PAX</th>\n",
       "    </tr>\n",
       "  </thead>\n",
       "  <tbody>\n",
       "    <tr>\n",
       "      <th>0</th>\n",
       "      <td>2011-12-05</td>\n",
       "      <td>ORD</td>\n",
       "      <td>Chicago</td>\n",
       "      <td>41.978603</td>\n",
       "      <td>-87.904842</td>\n",
       "      <td>EWR</td>\n",
       "      <td>Newark</td>\n",
       "      <td>40.692500</td>\n",
       "      <td>-74.168667</td>\n",
       "      <td>8.352941</td>\n",
       "      <td>5.667243</td>\n",
       "      <td>7</td>\n",
       "    </tr>\n",
       "    <tr>\n",
       "      <th>1</th>\n",
       "      <td>2013-03-01</td>\n",
       "      <td>ATL</td>\n",
       "      <td>Atlanta</td>\n",
       "      <td>33.636719</td>\n",
       "      <td>-84.428067</td>\n",
       "      <td>LGA</td>\n",
       "      <td>New York</td>\n",
       "      <td>40.777245</td>\n",
       "      <td>-73.872608</td>\n",
       "      <td>10.421053</td>\n",
       "      <td>10.001754</td>\n",
       "      <td>7</td>\n",
       "    </tr>\n",
       "    <tr>\n",
       "      <th>2</th>\n",
       "      <td>2012-02-06</td>\n",
       "      <td>ORD</td>\n",
       "      <td>Chicago</td>\n",
       "      <td>41.978603</td>\n",
       "      <td>-87.904842</td>\n",
       "      <td>BOS</td>\n",
       "      <td>Boston</td>\n",
       "      <td>42.364347</td>\n",
       "      <td>-71.005181</td>\n",
       "      <td>9.250000</td>\n",
       "      <td>7.136821</td>\n",
       "      <td>7</td>\n",
       "    </tr>\n",
       "    <tr>\n",
       "      <th>3</th>\n",
       "      <td>2012-12-10</td>\n",
       "      <td>ORD</td>\n",
       "      <td>Chicago</td>\n",
       "      <td>41.978603</td>\n",
       "      <td>-87.904842</td>\n",
       "      <td>SFO</td>\n",
       "      <td>San Francisco</td>\n",
       "      <td>37.618972</td>\n",
       "      <td>-122.374889</td>\n",
       "      <td>8.666667</td>\n",
       "      <td>7.404291</td>\n",
       "      <td>7</td>\n",
       "    </tr>\n",
       "    <tr>\n",
       "      <th>4</th>\n",
       "      <td>2012-04-13</td>\n",
       "      <td>SFO</td>\n",
       "      <td>San Francisco</td>\n",
       "      <td>37.618972</td>\n",
       "      <td>-122.374889</td>\n",
       "      <td>JFK</td>\n",
       "      <td>New York</td>\n",
       "      <td>40.639751</td>\n",
       "      <td>-73.778925</td>\n",
       "      <td>14.037037</td>\n",
       "      <td>9.858544</td>\n",
       "      <td>7</td>\n",
       "    </tr>\n",
       "  </tbody>\n",
       "</table>\n",
       "</div>"
      ],
      "text/plain": [
       "  DateOfDeparture Departure  CityDeparture  LongitudeDeparture  \\\n",
       "0      2011-12-05       ORD        Chicago           41.978603   \n",
       "1      2013-03-01       ATL        Atlanta           33.636719   \n",
       "2      2012-02-06       ORD        Chicago           41.978603   \n",
       "3      2012-12-10       ORD        Chicago           41.978603   \n",
       "4      2012-04-13       SFO  San Francisco           37.618972   \n",
       "\n",
       "   LatitudeDeparture Arrival    CityArrival  LongitudeArrival  \\\n",
       "0         -87.904842     EWR         Newark         40.692500   \n",
       "1         -84.428067     LGA       New York         40.777245   \n",
       "2         -87.904842     BOS         Boston         42.364347   \n",
       "3         -87.904842     SFO  San Francisco         37.618972   \n",
       "4        -122.374889     JFK       New York         40.639751   \n",
       "\n",
       "   LatitudeArrival  WeeksToDeparture    std_wtd  PAX  \n",
       "0       -74.168667          8.352941   5.667243    7  \n",
       "1       -73.872608         10.421053  10.001754    7  \n",
       "2       -71.005181          9.250000   7.136821    7  \n",
       "3      -122.374889          8.666667   7.404291    7  \n",
       "4       -73.778925         14.037037   9.858544    7  "
      ]
     },
     "execution_count": 1,
     "metadata": {},
     "output_type": "execute_result"
    }
   ],
   "source": [
    "import pandas as pd\n",
    "import numpy as np\n",
    "\n",
    "df_train = pd.read_csv('../project/train.csv')\n",
    "df_test = pd.read_csv('../project/test.csv')\n",
    "\n",
    "df_train.head()"
   ]
  },
  {
   "cell_type": "code",
   "execution_count": 2,
   "metadata": {},
   "outputs": [
    {
     "data": {
      "text/plain": [
       "(8899, 12)"
      ]
     },
     "execution_count": 2,
     "metadata": {},
     "output_type": "execute_result"
    }
   ],
   "source": [
    "df_train.shape"
   ]
  },
  {
   "cell_type": "markdown",
   "metadata": {},
   "source": [
    "Χωρίζουμε το training set στις πληροφοριές και στην μεταβλήτη που θέλουμε ο ταξινομητής μας να προβλέπει."
   ]
  },
  {
   "cell_type": "code",
   "execution_count": 3,
   "metadata": {},
   "outputs": [
    {
     "data": {
      "text/html": [
       "<div>\n",
       "<style scoped>\n",
       "    .dataframe tbody tr th:only-of-type {\n",
       "        vertical-align: middle;\n",
       "    }\n",
       "\n",
       "    .dataframe tbody tr th {\n",
       "        vertical-align: top;\n",
       "    }\n",
       "\n",
       "    .dataframe thead th {\n",
       "        text-align: right;\n",
       "    }\n",
       "</style>\n",
       "<table border=\"1\" class=\"dataframe\">\n",
       "  <thead>\n",
       "    <tr style=\"text-align: right;\">\n",
       "      <th></th>\n",
       "      <th>PAX</th>\n",
       "    </tr>\n",
       "  </thead>\n",
       "  <tbody>\n",
       "    <tr>\n",
       "      <th>0</th>\n",
       "      <td>7</td>\n",
       "    </tr>\n",
       "    <tr>\n",
       "      <th>1</th>\n",
       "      <td>7</td>\n",
       "    </tr>\n",
       "    <tr>\n",
       "      <th>2</th>\n",
       "      <td>7</td>\n",
       "    </tr>\n",
       "    <tr>\n",
       "      <th>3</th>\n",
       "      <td>7</td>\n",
       "    </tr>\n",
       "    <tr>\n",
       "      <th>4</th>\n",
       "      <td>7</td>\n",
       "    </tr>\n",
       "  </tbody>\n",
       "</table>\n",
       "</div>"
      ],
      "text/plain": [
       "   PAX\n",
       "0    7\n",
       "1    7\n",
       "2    7\n",
       "3    7\n",
       "4    7"
      ]
     },
     "execution_count": 3,
     "metadata": {},
     "output_type": "execute_result"
    }
   ],
   "source": [
    "Y = df_train[['PAX']]\n",
    "\n",
    "Y.head()"
   ]
  },
  {
   "cell_type": "markdown",
   "metadata": {},
   "source": [
    "Από τις πληροφορίες που μας δίνονται δημιουργούμε μερικές νέες και διαγράφουμε κάποιες που δεν θα βοηθήσουν τόσο πολύ τον ταξινομητή.\n",
    "Χρησιμοποιώντας την DateOfDeparture και την βιβλιοθήκη datetime μπορούμε να 'σπάσουμε' την ημερομηνία σε εποχή,χρόνο,μήνα,μέρα και μέρα της εβδομάδας(1 για Δευτέρα,2 για Τρίτη κλπ).\n",
    "Επιπλέον χρησιμοποιώντας τις γεωγραφικές συντεταγμένες μπορούμε να υπολογίσουμε την απόσταση Haversine μεταξύ των σημειών αναχώρησης και άφιξης.\n",
    "Όλα αυτά μπορούν να γίνουν γρήγορα και για τα 2 σέτ χρησιμοποιώντας μια συνάρτηση."
   ]
  },
  {
   "cell_type": "code",
   "execution_count": 4,
   "metadata": {},
   "outputs": [
    {
     "data": {
      "text/html": [
       "<div>\n",
       "<style scoped>\n",
       "    .dataframe tbody tr th:only-of-type {\n",
       "        vertical-align: middle;\n",
       "    }\n",
       "\n",
       "    .dataframe tbody tr th {\n",
       "        vertical-align: top;\n",
       "    }\n",
       "\n",
       "    .dataframe thead th {\n",
       "        text-align: right;\n",
       "    }\n",
       "</style>\n",
       "<table border=\"1\" class=\"dataframe\">\n",
       "  <thead>\n",
       "    <tr style=\"text-align: right;\">\n",
       "      <th></th>\n",
       "      <th>DateOfDeparture</th>\n",
       "      <th>Departure</th>\n",
       "      <th>CityDeparture</th>\n",
       "      <th>LongitudeDeparture</th>\n",
       "      <th>LatitudeDeparture</th>\n",
       "      <th>Arrival</th>\n",
       "      <th>CityArrival</th>\n",
       "      <th>LongitudeArrival</th>\n",
       "      <th>LatitudeArrival</th>\n",
       "      <th>WeeksToDeparture</th>\n",
       "      <th>std_wtd</th>\n",
       "      <th>PAX</th>\n",
       "      <th>distance</th>\n",
       "      <th>year</th>\n",
       "      <th>month</th>\n",
       "      <th>day</th>\n",
       "      <th>weekday</th>\n",
       "      <th>season</th>\n",
       "    </tr>\n",
       "  </thead>\n",
       "  <tbody>\n",
       "    <tr>\n",
       "      <th>0</th>\n",
       "      <td>2011-12-05</td>\n",
       "      <td>ORD</td>\n",
       "      <td>Chicago</td>\n",
       "      <td>41.978603</td>\n",
       "      <td>-87.904842</td>\n",
       "      <td>EWR</td>\n",
       "      <td>Newark</td>\n",
       "      <td>40.692500</td>\n",
       "      <td>-74.168667</td>\n",
       "      <td>8.352941</td>\n",
       "      <td>5.667243</td>\n",
       "      <td>7</td>\n",
       "      <td>1527.462493</td>\n",
       "      <td>2011</td>\n",
       "      <td>12</td>\n",
       "      <td>5</td>\n",
       "      <td>1</td>\n",
       "      <td>Winter</td>\n",
       "    </tr>\n",
       "    <tr>\n",
       "      <th>1</th>\n",
       "      <td>2013-03-01</td>\n",
       "      <td>ATL</td>\n",
       "      <td>Atlanta</td>\n",
       "      <td>33.636719</td>\n",
       "      <td>-84.428067</td>\n",
       "      <td>LGA</td>\n",
       "      <td>New York</td>\n",
       "      <td>40.777245</td>\n",
       "      <td>-73.872608</td>\n",
       "      <td>10.421053</td>\n",
       "      <td>10.001754</td>\n",
       "      <td>7</td>\n",
       "      <td>1180.967843</td>\n",
       "      <td>2013</td>\n",
       "      <td>3</td>\n",
       "      <td>1</td>\n",
       "      <td>5</td>\n",
       "      <td>Spring</td>\n",
       "    </tr>\n",
       "    <tr>\n",
       "      <th>2</th>\n",
       "      <td>2012-02-06</td>\n",
       "      <td>ORD</td>\n",
       "      <td>Chicago</td>\n",
       "      <td>41.978603</td>\n",
       "      <td>-87.904842</td>\n",
       "      <td>BOS</td>\n",
       "      <td>Boston</td>\n",
       "      <td>42.364347</td>\n",
       "      <td>-71.005181</td>\n",
       "      <td>9.250000</td>\n",
       "      <td>7.136821</td>\n",
       "      <td>7</td>\n",
       "      <td>1879.165071</td>\n",
       "      <td>2012</td>\n",
       "      <td>2</td>\n",
       "      <td>6</td>\n",
       "      <td>1</td>\n",
       "      <td>Spring</td>\n",
       "    </tr>\n",
       "    <tr>\n",
       "      <th>3</th>\n",
       "      <td>2012-12-10</td>\n",
       "      <td>ORD</td>\n",
       "      <td>Chicago</td>\n",
       "      <td>41.978603</td>\n",
       "      <td>-87.904842</td>\n",
       "      <td>SFO</td>\n",
       "      <td>San Francisco</td>\n",
       "      <td>37.618972</td>\n",
       "      <td>-122.374889</td>\n",
       "      <td>8.666667</td>\n",
       "      <td>7.404291</td>\n",
       "      <td>7</td>\n",
       "      <td>3832.261997</td>\n",
       "      <td>2012</td>\n",
       "      <td>12</td>\n",
       "      <td>10</td>\n",
       "      <td>1</td>\n",
       "      <td>Winter</td>\n",
       "    </tr>\n",
       "    <tr>\n",
       "      <th>4</th>\n",
       "      <td>2012-04-13</td>\n",
       "      <td>SFO</td>\n",
       "      <td>San Francisco</td>\n",
       "      <td>37.618972</td>\n",
       "      <td>-122.374889</td>\n",
       "      <td>JFK</td>\n",
       "      <td>New York</td>\n",
       "      <td>40.639751</td>\n",
       "      <td>-73.778925</td>\n",
       "      <td>14.037037</td>\n",
       "      <td>9.858544</td>\n",
       "      <td>7</td>\n",
       "      <td>5401.866530</td>\n",
       "      <td>2012</td>\n",
       "      <td>4</td>\n",
       "      <td>13</td>\n",
       "      <td>5</td>\n",
       "      <td>Spring</td>\n",
       "    </tr>\n",
       "  </tbody>\n",
       "</table>\n",
       "</div>"
      ],
      "text/plain": [
       "  DateOfDeparture Departure  CityDeparture  LongitudeDeparture  \\\n",
       "0      2011-12-05       ORD        Chicago           41.978603   \n",
       "1      2013-03-01       ATL        Atlanta           33.636719   \n",
       "2      2012-02-06       ORD        Chicago           41.978603   \n",
       "3      2012-12-10       ORD        Chicago           41.978603   \n",
       "4      2012-04-13       SFO  San Francisco           37.618972   \n",
       "\n",
       "   LatitudeDeparture Arrival    CityArrival  LongitudeArrival  \\\n",
       "0         -87.904842     EWR         Newark         40.692500   \n",
       "1         -84.428067     LGA       New York         40.777245   \n",
       "2         -87.904842     BOS         Boston         42.364347   \n",
       "3         -87.904842     SFO  San Francisco         37.618972   \n",
       "4        -122.374889     JFK       New York         40.639751   \n",
       "\n",
       "   LatitudeArrival  WeeksToDeparture    std_wtd  PAX     distance  year  \\\n",
       "0       -74.168667          8.352941   5.667243    7  1527.462493  2011   \n",
       "1       -73.872608         10.421053  10.001754    7  1180.967843  2013   \n",
       "2       -71.005181          9.250000   7.136821    7  1879.165071  2012   \n",
       "3      -122.374889          8.666667   7.404291    7  3832.261997  2012   \n",
       "4       -73.778925         14.037037   9.858544    7  5401.866530  2012   \n",
       "\n",
       "   month  day  weekday  season  \n",
       "0     12    5        1  Winter  \n",
       "1      3    1        5  Spring  \n",
       "2      2    6        1  Spring  \n",
       "3     12   10        1  Winter  \n",
       "4      4   13        5  Spring  "
      ]
     },
     "execution_count": 4,
     "metadata": {},
     "output_type": "execute_result"
    }
   ],
   "source": [
    "from datetime import datetime\n",
    "import haversine\n",
    "\n",
    "def process_df(df): \n",
    "    df[\"distance\"] = df_train.apply(lambda row : haversine.haversine((row[\"LatitudeDeparture\"], row[\"LongitudeDeparture\"]),\n",
    "        (row[\"LatitudeArrival\"], row[\"LongitudeArrival\"])), axis=1)\n",
    "\n",
    "    year = lambda x : datetime.strptime(x, '%Y-%m-%d').year\n",
    "    df['year'] = df['DateOfDeparture'].map(year)\n",
    "\n",
    "    month = lambda x : datetime.strptime(x , '%Y-%m-%d' ).month\n",
    "    df['month'] = df['DateOfDeparture'].map(month)\n",
    "\n",
    "    day = lambda x :  datetime.strptime(x , '%Y-%m-%d' ).day\n",
    "    df['day'] = df['DateOfDeparture'].map(day)\n",
    "\n",
    "    weekdays = lambda x : datetime.strptime(x , '%Y-%m-%d' ).isoweekday()\n",
    "    df['weekday'] = df['DateOfDeparture'].map(weekdays)\n",
    "    \n",
    "    season = {11: 'Winter', 12: 'Winter', 1: 'Winter', 2: 'Spring', 3: 'Spring', 4: 'Spring', \n",
    "              5: 'Summer', 6: 'Summer', 7: 'Summer', 8: 'Autumn', 9: 'Autumn', 10: 'Autumn'}\n",
    "\n",
    "    df['season'] = df['month'].apply(lambda x : season[x])\n",
    "    \n",
    "    return df\n",
    "\n",
    "df_train = process_df(df_train)\n",
    "df_test = process_df(df_test)\n",
    "\n",
    "df_train.head()\n"
   ]
  },
  {
   "cell_type": "markdown",
   "metadata": {},
   "source": [
    "Επιλέγουμε ποιές πληροφορίες θέλουμε να χρησιμοποιήσουμε για την εκπαίδευση του ταξινομητή μας.(Στο συγκεκριμένο σημείο μετά απο αρκετό trial and error έφτασα στο συμπέρασμα οτι η πληροφορία distance δεν βοηθούσε στην εκπαίδευση και έτσι την έκανα drop)"
   ]
  },
  {
   "cell_type": "code",
   "execution_count": 5,
   "metadata": {},
   "outputs": [
    {
     "data": {
      "text/plain": [
       "(8899, 18)"
      ]
     },
     "execution_count": 5,
     "metadata": {},
     "output_type": "execute_result"
    }
   ],
   "source": [
    "df_train.shape"
   ]
  },
  {
   "cell_type": "code",
   "execution_count": 6,
   "metadata": {},
   "outputs": [
    {
     "data": {
      "text/plain": [
       "(8899, 8)"
      ]
     },
     "execution_count": 6,
     "metadata": {},
     "output_type": "execute_result"
    }
   ],
   "source": [
    "df_train.drop(df_train[['DateOfDeparture','CityDeparture','CityArrival','PAX','LongitudeDeparture','distance','std_wtd',\n",
    "                        'LatitudeDeparture','LongitudeArrival','LatitudeArrival']], axis=1 , inplace = True)\n",
    "    \n",
    "df_test.drop(df_test[['DateOfDeparture','CityDeparture','CityArrival','LongitudeDeparture',\n",
    "                     'LatitudeDeparture','LongitudeArrival','LatitudeArrival','distance','std_wtd',]], axis=1 , inplace = True)\n",
    "\n",
    "df_train.shape"
   ]
  },
  {
   "cell_type": "markdown",
   "metadata": {},
   "source": [
    "Για πιό γρήγορο έλεγχο της απόδοσης , χρησιμοποίησα το πακέτο train_test_split για να χωρίσω το dataset σε training και test set(10% του αρχικού σετ)."
   ]
  },
  {
   "cell_type": "code",
   "execution_count": 7,
   "metadata": {},
   "outputs": [],
   "source": [
    "from sklearn.model_selection import train_test_split\n",
    "\n",
    "from sklearn.model_selection import train_test_split\n",
    "X_train , X_test , y_train , y_test = train_test_split(df_train ,Y ,  test_size = 0.1 ,random_state=0)\n",
    "y_train = np.ravel(y_train)"
   ]
  },
  {
   "cell_type": "markdown",
   "metadata": {},
   "source": [
    "Έχοντας κρατήσει τις πληροφόριες που θέλουμε,τώρα είναι η ώρα να τους δώσουμε την κατάλληλη μορφή για τον ταξινομητή που θα εκπαιδεύσουμε.Για τις συνεχείς τιμές θα χρησιμοποιήσουμε MinMaxScaler για τις κατηγορικές One-hot encoding.Για να γίνει οργανωμένα η μετατροπή της κάθε στήλης χρησιμοποίησα την κλάση ColumnTransformer του πακέτου scikit-learn έτσι ώστε να χωρίσω τις στήλες για την αντίστοιχη μετατροπή"
   ]
  },
  {
   "cell_type": "code",
   "execution_count": 8,
   "metadata": {},
   "outputs": [
    {
     "data": {
      "text/plain": [
       "(8899, 98)"
      ]
     },
     "execution_count": 8,
     "metadata": {},
     "output_type": "execute_result"
    }
   ],
   "source": [
    "from sklearn.preprocessing import OneHotEncoder,MinMaxScaler\n",
    "from sklearn.compose import ColumnTransformer\n",
    "    \n",
    "coltransf = ColumnTransformer([('one_hot',OneHotEncoder(categories='auto',sparse=False) ,\n",
    "                                ['Departure','Arrival','day','month','year','weekday','season']),\n",
    "                                ('scaling', MinMaxScaler() ,['WeeksToDeparture'] )])\n",
    "\n",
    "X_train = coltransf.fit_transform(df_train)\n",
    "X_test = coltransf.transform(X_test)\n",
    "df_test = coltransf.transform(df_test)\n",
    "\n",
    "X_train.shape"
   ]
  },
  {
   "cell_type": "code",
   "execution_count": 9,
   "metadata": {},
   "outputs": [
    {
     "data": {
      "text/plain": [
       "(7119,)"
      ]
     },
     "execution_count": 9,
     "metadata": {},
     "output_type": "execute_result"
    }
   ],
   "source": [
    "y_train.shape"
   ]
  },
  {
   "cell_type": "markdown",
   "metadata": {},
   "source": [
    "# Επιλογή και εκπαίδευση ταξινομητή"
   ]
  },
  {
   "cell_type": "markdown",
   "metadata": {},
   "source": [
    "Μετά απο δοκιμές αρκετών ταξινομητών , κατέληξα στην κλάση MLPClassifier του πακέτου scikit-learn εφόσον ο συγκεκριμένος μου έδινε τα καλύτερα αποτελέσματα.\n",
    "Οι ταξινομητές που δοκιμάστηκαν ήταν οι : KNeighborsClassifier , LogisticRegression , RandomForestClassifier και MultinomialNB."
   ]
  },
  {
   "cell_type": "markdown",
   "metadata": {},
   "source": [
    "Φορτώνουμε την κλάση MLPClassifier απο το πακέτο και δημιουργούμε ένα αντικείμενο MLPClassifier με 3 κρυφά layers απο 64,32,16 νευρώνες το καθένα.\n",
    "Ύστερα εκπαιδεύουμε τον ταξινομητή μας και κάνουμε μια πρόβλεψη πάνω στα δεδομένα που πήραμε απο το train_test_split."
   ]
  },
  {
   "cell_type": "code",
   "execution_count": 11,
   "metadata": {},
   "outputs": [
    {
     "name": "stderr",
     "output_type": "stream",
     "text": [
      "/home/geo-lev/anaconda3/lib/python3.6/site-packages/sklearn/neural_network/multilayer_perceptron.py:916: DataConversionWarning: A column-vector y was passed when a 1d array was expected. Please change the shape of y to (n_samples, ), for example using ravel().\n",
      "  y = column_or_1d(y, warn=True)\n",
      "/home/geo-lev/anaconda3/lib/python3.6/site-packages/sklearn/neural_network/multilayer_perceptron.py:562: ConvergenceWarning: Stochastic Optimizer: Maximum iterations (200) reached and the optimization hasn't converged yet.\n",
      "  % self.max_iter, ConvergenceWarning)\n"
     ]
    }
   ],
   "source": [
    "from sklearn.neural_network import MLPClassifier\n",
    "clf = MLPClassifier(alpha=0.55 , hidden_layer_sizes=(64,32,16),random_state=0)\n",
    "clf.fit(X_train, Y )\n",
    "y_pred = clf.predict(X_test)"
   ]
  },
  {
   "cell_type": "markdown",
   "metadata": {},
   "source": [
    "Φορτώνουμε την κλάση f1-score απο το πακέτο scikit-learn και βλέπουμε το score του ταξινομητή μας"
   ]
  },
  {
   "cell_type": "code",
   "execution_count": 12,
   "metadata": {},
   "outputs": [
    {
     "data": {
      "text/plain": [
       "0.85"
      ]
     },
     "execution_count": 12,
     "metadata": {},
     "output_type": "execute_result"
    }
   ],
   "source": [
    "from sklearn.metrics import f1_score\n",
    "f1_score(y_pred , y_test , average='micro')"
   ]
  },
  {
   "cell_type": "markdown",
   "metadata": {},
   "source": [
    "Για επιπλέον πληροφοριές σχετικά με την απόδοση του ταξινομητή μπορούμε να φορτώσουμε την κλάση cross_val_score του scikit-learn έτσι ώστε να δούμε ποσο overfitted είναι ο ταξινομητής στα δεδομένα που τον εκπαιδεύσαμε"
   ]
  },
  {
   "cell_type": "code",
   "execution_count": 14,
   "metadata": {},
   "outputs": [
    {
     "name": "stderr",
     "output_type": "stream",
     "text": [
      "/home/geo-lev/anaconda3/lib/python3.6/site-packages/sklearn/neural_network/multilayer_perceptron.py:916: DataConversionWarning: A column-vector y was passed when a 1d array was expected. Please change the shape of y to (n_samples, ), for example using ravel().\n",
      "  y = column_or_1d(y, warn=True)\n",
      "/home/geo-lev/anaconda3/lib/python3.6/site-packages/sklearn/neural_network/multilayer_perceptron.py:562: ConvergenceWarning: Stochastic Optimizer: Maximum iterations (200) reached and the optimization hasn't converged yet.\n",
      "  % self.max_iter, ConvergenceWarning)\n",
      "/home/geo-lev/anaconda3/lib/python3.6/site-packages/sklearn/neural_network/multilayer_perceptron.py:916: DataConversionWarning: A column-vector y was passed when a 1d array was expected. Please change the shape of y to (n_samples, ), for example using ravel().\n",
      "  y = column_or_1d(y, warn=True)\n",
      "/home/geo-lev/anaconda3/lib/python3.6/site-packages/sklearn/neural_network/multilayer_perceptron.py:562: ConvergenceWarning: Stochastic Optimizer: Maximum iterations (200) reached and the optimization hasn't converged yet.\n",
      "  % self.max_iter, ConvergenceWarning)\n",
      "/home/geo-lev/anaconda3/lib/python3.6/site-packages/sklearn/neural_network/multilayer_perceptron.py:916: DataConversionWarning: A column-vector y was passed when a 1d array was expected. Please change the shape of y to (n_samples, ), for example using ravel().\n",
      "  y = column_or_1d(y, warn=True)\n",
      "/home/geo-lev/anaconda3/lib/python3.6/site-packages/sklearn/neural_network/multilayer_perceptron.py:562: ConvergenceWarning: Stochastic Optimizer: Maximum iterations (200) reached and the optimization hasn't converged yet.\n",
      "  % self.max_iter, ConvergenceWarning)\n",
      "/home/geo-lev/anaconda3/lib/python3.6/site-packages/sklearn/neural_network/multilayer_perceptron.py:916: DataConversionWarning: A column-vector y was passed when a 1d array was expected. Please change the shape of y to (n_samples, ), for example using ravel().\n",
      "  y = column_or_1d(y, warn=True)\n",
      "/home/geo-lev/anaconda3/lib/python3.6/site-packages/sklearn/neural_network/multilayer_perceptron.py:562: ConvergenceWarning: Stochastic Optimizer: Maximum iterations (200) reached and the optimization hasn't converged yet.\n",
      "  % self.max_iter, ConvergenceWarning)\n",
      "/home/geo-lev/anaconda3/lib/python3.6/site-packages/sklearn/neural_network/multilayer_perceptron.py:916: DataConversionWarning: A column-vector y was passed when a 1d array was expected. Please change the shape of y to (n_samples, ), for example using ravel().\n",
      "  y = column_or_1d(y, warn=True)\n",
      "/home/geo-lev/anaconda3/lib/python3.6/site-packages/sklearn/neural_network/multilayer_perceptron.py:562: ConvergenceWarning: Stochastic Optimizer: Maximum iterations (200) reached and the optimization hasn't converged yet.\n",
      "  % self.max_iter, ConvergenceWarning)\n"
     ]
    }
   ],
   "source": [
    "from sklearn.model_selection import cross_val_score\n",
    "\n",
    "scores = cross_val_score(clf , X_train , Y , cv =5 , scoring='f1_micro')"
   ]
  },
  {
   "cell_type": "code",
   "execution_count": 16,
   "metadata": {},
   "outputs": [
    {
     "data": {
      "text/plain": [
       "0.5509505166257321"
      ]
     },
     "execution_count": 16,
     "metadata": {},
     "output_type": "execute_result"
    }
   ],
   "source": [
    "scores.mean()"
   ]
  },
  {
   "cell_type": "code",
   "execution_count": 17,
   "metadata": {},
   "outputs": [
    {
     "data": {
      "text/plain": [
       "0.012534503686649717"
      ]
     },
     "execution_count": 17,
     "metadata": {},
     "output_type": "execute_result"
    }
   ],
   "source": [
    "scores.std()"
   ]
  },
  {
   "cell_type": "markdown",
   "metadata": {},
   "source": [
    "Παρ'όλο που το αρχικό f1-score ήταν 84% , το μέσο cross_val_score ήταν 55%.Η αιτία για αυτό είναι οτι ο ταξινομητής πιθανώς να έχει γίνει overfitted στα δεδομένα εκπαίδευσης.Το ποσοστό της τυπικής απόκλισης 1,2% μας δείχνει οτι ο ταξινομητής είναι αρκετά εύρωστος(robust) το οποίο είναι καλό."
   ]
  },
  {
   "cell_type": "markdown",
   "metadata": {},
   "source": [
    "# Ανέβασμα και score στην πλατφόρμα Kaggle"
   ]
  },
  {
   "cell_type": "markdown",
   "metadata": {},
   "source": [
    "Για να προβλέψουμε το αρχείο που πρέπει να ανέβει στην πλατφόρμα δεν υπάρχει λόγο να χωρίσουμε το αρχικό μας dataset με την train_test_split"
   ]
  },
  {
   "cell_type": "code",
   "execution_count": 20,
   "metadata": {},
   "outputs": [
    {
     "name": "stderr",
     "output_type": "stream",
     "text": [
      "/home/geo-lev/anaconda3/lib/python3.6/site-packages/sklearn/neural_network/multilayer_perceptron.py:916: DataConversionWarning: A column-vector y was passed when a 1d array was expected. Please change the shape of y to (n_samples, ), for example using ravel().\n",
      "  y = column_or_1d(y, warn=True)\n",
      "/home/geo-lev/anaconda3/lib/python3.6/site-packages/sklearn/neural_network/multilayer_perceptron.py:562: ConvergenceWarning: Stochastic Optimizer: Maximum iterations (200) reached and the optimization hasn't converged yet.\n",
      "  % self.max_iter, ConvergenceWarning)\n"
     ]
    },
    {
     "data": {
      "text/plain": [
       "MLPClassifier(activation='relu', alpha=0.55, batch_size='auto', beta_1=0.9,\n",
       "       beta_2=0.999, early_stopping=False, epsilon=1e-08,\n",
       "       hidden_layer_sizes=(64, 32, 16), learning_rate='constant',\n",
       "       learning_rate_init=0.001, max_iter=200, momentum=0.9,\n",
       "       n_iter_no_change=10, nesterovs_momentum=True, power_t=0.5,\n",
       "       random_state=0, shuffle=True, solver='adam', tol=0.0001,\n",
       "       validation_fraction=0.1, verbose=False, warm_start=False)"
      ]
     },
     "execution_count": 20,
     "metadata": {},
     "output_type": "execute_result"
    }
   ],
   "source": [
    "clf.fit(X_train , Y)"
   ]
  },
  {
   "cell_type": "code",
   "execution_count": 24,
   "metadata": {},
   "outputs": [
    {
     "data": {
      "text/plain": [
       "(2229,)"
      ]
     },
     "execution_count": 24,
     "metadata": {},
     "output_type": "execute_result"
    }
   ],
   "source": [
    "y_pred = clf.predict(df_test)\n",
    "y_pred.shape"
   ]
  },
  {
   "cell_type": "markdown",
   "metadata": {},
   "source": [
    "Έπειτα χρησιμοποιούμε τον δοσμένο κώδικα απο την εκφώνηση για να δημιουργήσουμε το κατάλληλο αρχείο csv "
   ]
  },
  {
   "cell_type": "code",
   "execution_count": 27,
   "metadata": {},
   "outputs": [],
   "source": [
    "import csv \n",
    "with open('../project/y_pred.csv', 'w', newline ='') as csvfile:\n",
    "    writer = csv.writer(csvfile, delimiter=',')\n",
    "    writer.writerow(['Id', 'Label'])\n",
    "    for i in range(y_pred.shape[0]):\n",
    "        writer.writerow([i, y_pred[i]])"
   ]
  },
  {
   "cell_type": "code",
   "execution_count": null,
   "metadata": {},
   "outputs": [],
   "source": [
    "Ανεβάζουμε το αρχείο στην πλατφόρμα και παίρνουμε σκόρ 0.59431 στο public leaderboard και 0.58167 στο private leaderboard."
   ]
  }
 ],
 "metadata": {
  "kernelspec": {
   "display_name": "Python 3",
   "language": "python",
   "name": "python3"
  },
  "language_info": {
   "codemirror_mode": {
    "name": "ipython",
    "version": 3
   },
   "file_extension": ".py",
   "mimetype": "text/x-python",
   "name": "python",
   "nbconvert_exporter": "python",
   "pygments_lexer": "ipython3",
   "version": "3.6.7"
  }
 },
 "nbformat": 4,
 "nbformat_minor": 2
}
